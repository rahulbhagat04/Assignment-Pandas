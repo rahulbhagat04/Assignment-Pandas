{
  "nbformat": 4,
  "nbformat_minor": 0,
  "metadata": {
    "colab": {
      "provenance": []
    },
    "kernelspec": {
      "name": "python3",
      "display_name": "Python 3"
    },
    "language_info": {
      "name": "python"
    }
  },
  "cells": [
    {
      "cell_type": "markdown",
      "source": [
        "**Q1. List any five functions of the pandas library with execution.**"
      ],
      "metadata": {
        "id": "L_Lz3mdatE9j"
      }
    },
    {
      "cell_type": "markdown",
      "source": [
        "1. read_csv():\n",
        "\n",
        "  This function is used to read data from a CSV file and create a DataFrame.\n",
        "\n",
        "2. head():\n",
        "\n",
        "  This function returns the first few rows of a DataFrame. By default, it returns the first 5 rows.\n",
        "\n",
        "3. describe():\n",
        "\n",
        "  This function provides a summary of statistics for numerical columns in the DataFrame, such as mean, count, min, max, and standard deviation.\n",
        "\n",
        "4. groupby():\n",
        "\n",
        "  This function is used to group data based on a particular column and perform aggregate operations like mean, sum, etc.\n",
        "\n",
        "5. drop():\n",
        "\n",
        "  This function is used to remove columns or rows from a DataFrame."
      ],
      "metadata": {
        "id": "3DqAfASjtLs7"
      }
    },
    {
      "cell_type": "code",
      "source": [
        "import pandas as pd\n",
        "data = {\n",
        "    'Name': ['Alice', 'Bob', 'Charlie'],\n",
        "    'Age': [25, 30, 35],\n",
        "    'Department': ['HR', 'Finance', 'IT']\n",
        "}\n",
        "df = pd.DataFrame(data)\n",
        "\n",
        "#df=pd.read_csv(\"data.csv\")\n",
        "print(df.head())\n",
        "print(df.describe())\n",
        "grouped_df = df.groupby('Department')['Age'].mean()\n",
        "print(grouped_df)"
      ],
      "metadata": {
        "colab": {
          "base_uri": "https://localhost:8080/"
        },
        "id": "y0pvaW8-ucHA",
        "outputId": "ed17d8a8-733a-464c-d655-87fbe7b7c8b3"
      },
      "execution_count": 29,
      "outputs": [
        {
          "output_type": "stream",
          "name": "stdout",
          "text": [
            "      Name  Age Department\n",
            "0    Alice   25         HR\n",
            "1      Bob   30    Finance\n",
            "2  Charlie   35         IT\n",
            "        Age\n",
            "count   3.0\n",
            "mean   30.0\n",
            "std     5.0\n",
            "min    25.0\n",
            "25%    27.5\n",
            "50%    30.0\n",
            "75%    32.5\n",
            "max    35.0\n",
            "Department\n",
            "Finance    30.0\n",
            "HR         25.0\n",
            "IT         35.0\n",
            "Name: Age, dtype: float64\n"
          ]
        }
      ]
    },
    {
      "cell_type": "markdown",
      "source": [
        "**Q2. Given a Pandas DataFrame df with columns 'A', 'B', and 'C', write a Python function to re-index the DataFrame with a new index that starts from 1 and increments by 2 for each row.**\n"
      ],
      "metadata": {
        "id": "MDvKDB4ttLpH"
      }
    },
    {
      "cell_type": "code",
      "source": [
        "import pandas as pd\n",
        "data = {\n",
        "    'A': [10, 20, 30],\n",
        "    'B': [40, 50, 60],\n",
        "    'C': [70, 80, 90]\n",
        "}\n",
        "\n",
        "def reindex_dataframe(df):\n",
        "    # Create a new index starting from 1 and incrementing by 2\n",
        "    new_index = range(1, 2 * len(df), 2)\n",
        "\n",
        "    # Re-index the DataFrame\n",
        "    df_reindexed = df.copy()  # Create a copy to avoid modifying the original DataFrame\n",
        "    df_reindexed.index = new_index\n",
        "\n",
        "    return df_reindexed\n",
        "\n",
        "df = pd.DataFrame(data)\n",
        "print(\"Original DataFrame:\")\n",
        "print(df)\n",
        "\n",
        "reindexed_df = reindex_dataframe(df)\n",
        "\n",
        "# Display the re-indexed DataFrame\n",
        "print(\"\\nRe-indexed DataFrame:\")\n",
        "print(reindexed_df)"
      ],
      "metadata": {
        "colab": {
          "base_uri": "https://localhost:8080/"
        },
        "id": "tKtXhryuubQQ",
        "outputId": "713583cf-1c62-4b30-86a8-4442dd578471"
      },
      "execution_count": 30,
      "outputs": [
        {
          "output_type": "stream",
          "name": "stdout",
          "text": [
            "Original DataFrame:\n",
            "    A   B   C\n",
            "0  10  40  70\n",
            "1  20  50  80\n",
            "2  30  60  90\n",
            "\n",
            "Re-indexed DataFrame:\n",
            "    A   B   C\n",
            "1  10  40  70\n",
            "3  20  50  80\n",
            "5  30  60  90\n"
          ]
        }
      ]
    },
    {
      "cell_type": "markdown",
      "source": [
        "**Q3. You have a Pandas DataFrame df with a column named 'Values'. Write a Python function that iterates over the DataFrame and calculates the sum of the first three values in the 'Values' column. The function should print the sum to the console.**\n",
        "\n",
        "**For example, if the 'Values' column of df contains the values [10, 20, 30, 40, 50], your function should calculate and print the sum of the first three values, which is 60.**\n",
        "\n"
      ],
      "metadata": {
        "id": "GGLLQ_PftRNs"
      }
    },
    {
      "cell_type": "code",
      "source": [
        "import pandas as pd\n",
        "\n",
        "def sum_first_three_values(df):\n",
        "    # Check if 'Values' column exists and has at least 3 entries\n",
        "    if 'Values' in df.columns and len(df['Values']) >= 3:\n",
        "        # Calculate the sum of the first three values\n",
        "        total_sum = df['Values'].iloc[0] + df['Values'].iloc[1] + df['Values'].iloc[2]\n",
        "\n",
        "        # Print the sum to the console\n",
        "        print(\"Sum of the first three values in 'Values' column:\", total_sum)\n",
        "    else:\n",
        "        print(\"The 'Values' column does not exist or does not have enough entries.\")\n",
        "\n",
        "# Example usage\n",
        "data = {\n",
        "    'Values': [10, 20, 30, 40, 50],\n",
        "    'Other_Column': ['A', 'B', 'C', 'D', 'E']  # Some additional data\n",
        "}\n",
        "\n",
        "# Creating a sample DataFrame\n",
        "df = pd.DataFrame(data)\n",
        "\n",
        "# Call the function\n",
        "sum_first_three_values(df)"
      ],
      "metadata": {
        "colab": {
          "base_uri": "https://localhost:8080/"
        },
        "id": "PO42wediuajZ",
        "outputId": "9b492f71-fd99-4028-f017-4b41fb5e7030"
      },
      "execution_count": 31,
      "outputs": [
        {
          "output_type": "stream",
          "name": "stdout",
          "text": [
            "Sum of the first three values in 'Values' column: 60\n"
          ]
        }
      ]
    },
    {
      "cell_type": "markdown",
      "source": [
        "**Q4. Given a Pandas DataFrame df with a column 'Text', write a Python function to create a new column 'Word_Count' that contains the number of words in each row of the 'Text' column.**\n"
      ],
      "metadata": {
        "id": "sP-rTXXCtRKq"
      }
    },
    {
      "cell_type": "code",
      "source": [
        "import pandas as pd\n",
        "\n",
        "def add_word_count_column(df):\n",
        "    # Define a function to count words in a text\n",
        "    def count_words(text):\n",
        "        if isinstance(text, str):  # Check if the input is a string\n",
        "            return len(text.split())  # Split the text and count the words\n",
        "        return 0  # Return 0 if not a string\n",
        "\n",
        "    # Create the 'Word_Count' column by applying the count_words function\n",
        "    df['Word_Count'] = df['Text'].apply(count_words)\n",
        "\n",
        "# Example usage\n",
        "data = {\n",
        "    'Text': [\n",
        "        \"Hello world!\",\n",
        "        \"This is a sample text.\",\n",
        "        \"Pandas is great for data manipulation.\",\n",
        "        \"Let's count the number of words.\"\n",
        "    ]\n",
        "}\n",
        "\n",
        "# Creating a sample DataFrame\n",
        "df = pd.DataFrame(data)\n",
        "\n",
        "# Call the function to add the Word_Count column\n",
        "add_word_count_column(df)\n",
        "\n",
        "# Display the updated DataFrame\n",
        "print(df)"
      ],
      "metadata": {
        "colab": {
          "base_uri": "https://localhost:8080/"
        },
        "id": "vPPosjQAuaGX",
        "outputId": "63556794-7fe1-4f1c-eed7-1d70b5cb1d53"
      },
      "execution_count": 32,
      "outputs": [
        {
          "output_type": "stream",
          "name": "stdout",
          "text": [
            "                                     Text  Word_Count\n",
            "0                            Hello world!           2\n",
            "1                  This is a sample text.           5\n",
            "2  Pandas is great for data manipulation.           6\n",
            "3        Let's count the number of words.           6\n"
          ]
        }
      ]
    },
    {
      "cell_type": "markdown",
      "source": [
        "**Q5. How are DataFrame.size() and DataFrame.shape() different?**\n"
      ],
      "metadata": {
        "id": "hgJxDsC6teKR"
      }
    },
    {
      "cell_type": "markdown",
      "source": [
        "**SOLUTION:**\n",
        "\n",
        "**DataFrame.size**\n",
        "\n",
        "Definition: This attribute returns the total number of elements in the DataFrame.\n",
        "\n",
        "Calculation: It is calculated as the product of the number of rows and the number of columns.\n",
        "\n",
        "Output Type: It returns a single integer value.\n",
        "\n",
        "**DataFrame.shape**\n",
        "\n",
        "Definition: This attribute returns a tuple representing the dimensions of the DataFrame.\n",
        "\n",
        "Structure: The tuple contains two values: (number of rows, number of columns).\n",
        "\n",
        "Output Type: It returns a tuple of two integers."
      ],
      "metadata": {
        "id": "tR5pGzcO4prU"
      }
    },
    {
      "cell_type": "markdown",
      "source": [
        "**Q6. Which function of pandas do we use to read an excel file?**\n"
      ],
      "metadata": {
        "id": "ZGGMegC2teID"
      }
    },
    {
      "cell_type": "markdown",
      "source": [
        "**SOLUTION:**\n",
        "\n",
        "read_excel() IS USED TO READ A EXCEL FILE"
      ],
      "metadata": {
        "id": "QIJn1PuG5AiV"
      }
    },
    {
      "cell_type": "markdown",
      "source": [
        "**Q7. You have a Pandas DataFrame df that contains a column named 'Email' that contains email addresses in the format 'username@domain.com'. Write a Python function that creates a new column 'Username' in df that contains only the username part of each email address.**\n",
        "\n",
        "**The username is the part of the email address that appears before the '@' symbol. For example, if the email address is 'john.doe@example.com', the 'Username' column should contain 'john.doe'. Your function should extract the username from each email address and store it in the new 'Username' column.**"
      ],
      "metadata": {
        "id": "zmO1tbgeteFX"
      }
    },
    {
      "cell_type": "code",
      "source": [
        "import pandas as pd\n",
        "\n",
        "def add_username_column(df):\n",
        "    # Define a function to extract the username from the email\n",
        "    def extract_username(email):\n",
        "        if isinstance(email, str):  # Check if the input is a string\n",
        "            return email.split('@')[0]  # Split by '@' and return the first part\n",
        "        return None  # Return None if not a string\n",
        "\n",
        "    # Create the 'Username' column by applying the extract_username function\n",
        "    df['Username'] = df['Email'].apply(extract_username)\n",
        "\n",
        "# Example usage\n",
        "data = {\n",
        "    'Email': [\n",
        "        'john.doe@example.com',\n",
        "        'jane.smith@domain.com',\n",
        "        'alice@company.org',\n",
        "        'bob.brown@gmail.com'\n",
        "    ]\n",
        "}\n",
        "\n",
        "# Creating a sample DataFrame\n",
        "df = pd.DataFrame(data)\n",
        "\n",
        "# Call the function to add the Username column\n",
        "add_username_column(df)\n",
        "\n",
        "# Display the updated DataFrame\n",
        "print(df)"
      ],
      "metadata": {
        "colab": {
          "base_uri": "https://localhost:8080/"
        },
        "id": "m7iodq45uZFZ",
        "outputId": "91cbdd89-802d-4de1-d0bb-5fac6e513d07"
      },
      "execution_count": 33,
      "outputs": [
        {
          "output_type": "stream",
          "name": "stdout",
          "text": [
            "                   Email    Username\n",
            "0   john.doe@example.com    john.doe\n",
            "1  jane.smith@domain.com  jane.smith\n",
            "2      alice@company.org       alice\n",
            "3    bob.brown@gmail.com   bob.brown\n"
          ]
        }
      ]
    },
    {
      "cell_type": "markdown",
      "source": [
        "**Q8. You have a Pandas DataFrame df with columns 'A', 'B', and 'C'. Write a Python function that selects all rows where the value in column 'A' is greater than 5 and the value in column 'B' is less than 10. The function should return a new DataFrame that contains only the selected rows.**\n",
        "\n",
        "For example, if df contains the following values:\n",
        "\n",
        "_ A B C\n",
        "\n",
        "0 3 5 1\n",
        "\n",
        "1 8 2 7\n",
        "\n",
        "2 6 9 4\n",
        "\n",
        "3 2 3 5\n",
        "\n",
        "4 9 1 2\n",
        "\n",
        "Your function should select the following rows: A B C\n",
        "\n",
        "1 8 2 7\n",
        "\n",
        "4 9 1 2\n",
        "\n",
        "The function should return a new DataFrame that contains only the selected rows."
      ],
      "metadata": {
        "id": "w3oC0Q5Bt2Qm"
      }
    },
    {
      "cell_type": "code",
      "source": [
        "import pandas as pd\n",
        "\n",
        "def filter_dataframe(df):\n",
        "    # Select rows where column 'A' is greater than 5 and column 'B' is less than 10\n",
        "    filtered_df = df[(df['A'] > 5) & (df['B'] < 10)]\n",
        "\n",
        "    return filtered_df\n",
        "\n",
        "data = {\n",
        "    'A': [3, 8, 6, 2, 9],\n",
        "    'B': [5, 2, 9, 3, 1],\n",
        "    'C': [1, 7, 4, 5, 2]\n",
        "}\n",
        "\n",
        "# Creating a sample DataFrame\n",
        "df = pd.DataFrame(data)\n",
        "\n",
        "# Call the function to filter the DataFrame\n",
        "result_df = filter_dataframe(df)\n",
        "\n",
        "# Display the resulting DataFrame\n",
        "print(result_df)"
      ],
      "metadata": {
        "colab": {
          "base_uri": "https://localhost:8080/"
        },
        "id": "uIIWS3Go5e4F",
        "outputId": "f2b61086-2341-4182-a815-2d3037639c3b"
      },
      "execution_count": 34,
      "outputs": [
        {
          "output_type": "stream",
          "name": "stdout",
          "text": [
            "   A  B  C\n",
            "1  8  2  7\n",
            "2  6  9  4\n",
            "4  9  1  2\n"
          ]
        }
      ]
    },
    {
      "cell_type": "markdown",
      "source": [
        "**Q9. Given a Pandas DataFrame df with a column 'Values', write a Python function to calculate the mean,median, and standard deviation of the values in the 'Values' column.**"
      ],
      "metadata": {
        "id": "3FBRNUrCt2OB"
      }
    },
    {
      "cell_type": "code",
      "source": [
        "import pandas as pd\n",
        "\n",
        "def calculate_statistics(df):\n",
        "    # Check if 'Values' column exists\n",
        "    if 'Values' in df.columns:\n",
        "        mean_value = df['Values'].mean()           # Calculate the mean\n",
        "        median_value = df['Values'].median()       # Calculate the median\n",
        "        std_deviation = df['Values'].std()          # Calculate the standard deviation\n",
        "\n",
        "        # Print the results\n",
        "        print(f\"Mean: {mean_value}\")\n",
        "        print(f\"Median: {median_value}\")\n",
        "        print(f\"Standard Deviation: {std_deviation}\")\n",
        "    else:\n",
        "        print(\"The 'Values' column does not exist in the DataFrame.\")\n",
        "\n",
        "data = {\n",
        "    'Values': [10, 20, 30, 40, 50]\n",
        "}\n",
        "\n",
        "# Creating a sample DataFrame\n",
        "df = pd.DataFrame(data)\n",
        "\n",
        "# Call the function to calculate and print statistics\n",
        "calculate_statistics(df)"
      ],
      "metadata": {
        "colab": {
          "base_uri": "https://localhost:8080/"
        },
        "id": "AWGUDtCG6Dm8",
        "outputId": "41472f31-7813-4bac-d3a2-2a996422f58a"
      },
      "execution_count": 35,
      "outputs": [
        {
          "output_type": "stream",
          "name": "stdout",
          "text": [
            "Mean: 30.0\n",
            "Median: 30.0\n",
            "Standard Deviation: 15.811388300841896\n"
          ]
        }
      ]
    },
    {
      "cell_type": "markdown",
      "source": [
        "**Q10. Given a Pandas DataFrame df with a column 'Sales' and a column 'Date', write a Python function to create a new column 'MovingAverage' that contains the moving average of the sales for the past 7 days for each row in the DataFrame. The moving average should be calculated using a window of size 7 and should include the current day.**"
      ],
      "metadata": {
        "id": "Cus0SowQujpQ"
      }
    },
    {
      "cell_type": "code",
      "source": [
        "import pandas as pd\n",
        "\n",
        "def add_moving_average(df):\n",
        "    # Ensure that 'Date' column is in datetime format and sort by date\n",
        "    df['Date'] = pd.to_datetime(df['Date'])\n",
        "    df = df.sort_values(by='Date')\n",
        "\n",
        "    # Calculate the moving average with a window of 7 days, including the current day\n",
        "    df['MovingAverage'] = df['Sales'].rolling(window=7).mean()\n",
        "\n",
        "    return df\n",
        "\n",
        "# Example usage\n",
        "data = {\n",
        "    'Date': [\n",
        "        '2023-09-01',\n",
        "        '2023-09-02',\n",
        "        '2023-09-03',\n",
        "        '2023-09-04',\n",
        "        '2023-09-05',\n",
        "        '2023-09-06',\n",
        "        '2023-09-07',\n",
        "        '2023-09-08',\n",
        "        '2023-09-09'],\n",
        "    'Sales': [100, 150, 200, 250, 300, 350, 400, 450, 500]\n",
        "}\n",
        "\n",
        "# Creating a sample DataFrame\n",
        "df = pd.DataFrame(data)\n",
        "\n",
        "# Call the function to add the MovingAverage column\n",
        "result_df = add_moving_average(df)\n",
        "\n",
        "# Display the resulting DataFrame\n",
        "print(result_df)"
      ],
      "metadata": {
        "colab": {
          "base_uri": "https://localhost:8080/"
        },
        "id": "2bIWS3we6Ov7",
        "outputId": "917c2ae0-b1aa-4f0a-9765-73d78f7b5516"
      },
      "execution_count": 36,
      "outputs": [
        {
          "output_type": "stream",
          "name": "stdout",
          "text": [
            "        Date  Sales  MovingAverage\n",
            "0 2023-09-01    100            NaN\n",
            "1 2023-09-02    150            NaN\n",
            "2 2023-09-03    200            NaN\n",
            "3 2023-09-04    250            NaN\n",
            "4 2023-09-05    300            NaN\n",
            "5 2023-09-06    350            NaN\n",
            "6 2023-09-07    400          250.0\n",
            "7 2023-09-08    450          300.0\n",
            "8 2023-09-09    500          350.0\n"
          ]
        }
      ]
    },
    {
      "cell_type": "markdown",
      "source": [
        "**Q11. You have a Pandas DataFrame df with a column 'Date'. Write a Python function that creates a newcolumn 'Weekday' in the DataFrame. The 'Weekday' column should contain the weekday name (e.g.Monday, Tuesday) corresponding to each date in the 'Date' column.**\n",
        "\n",
        "**For example, if df contains the following values:**\n",
        "\n",
        "_____Date\n",
        "\n",
        "0 2023-01-01\n",
        "\n",
        "1 2023-01-02\n",
        "\n",
        "2 2023-01-03\n",
        "\n",
        "3 2023-01-04\n",
        "\n",
        "4 2023-01-05\n",
        "\n",
        "**Your function should create the following DataFrame:**\n",
        "\n",
        "_________Date_____ Weekday\n",
        "\n",
        "0 2023-01-01 Sunday\n",
        "\n",
        "1 2023-01-02 Monday\n",
        "\n",
        "2 2023-01-03 Tuesday\n",
        "\n",
        "3 2023-01-04 Wednesday\n",
        "\n",
        "4 2023-01-05 Thursday\n",
        "\n",
        "**The function should return the modified DataFrame.**"
      ],
      "metadata": {
        "id": "F8_yLlZ0uoNQ"
      }
    },
    {
      "cell_type": "code",
      "source": [
        "import pandas as pd\n",
        "\n",
        "def add_weekday_column(df):\n",
        "    # Ensure that 'Date' column is in datetime format\n",
        "    df['Date'] = pd.to_datetime(df['Date'])\n",
        "\n",
        "    # Create a new column 'Weekday' with the name of the weekday\n",
        "    df['Weekday'] = df['Date'].dt.day_name()\n",
        "\n",
        "    return df\n",
        "\n",
        "# Example usage\n",
        "data = {\n",
        "    'Date': [\n",
        "        '2023-01-01',\n",
        "        '2023-01-02',\n",
        "        '2023-01-03',\n",
        "        '2023-01-04',\n",
        "        '2023-01-05'\n",
        "    ]\n",
        "}\n",
        "\n",
        "# Creating a sample DataFrame\n",
        "df = pd.DataFrame(data)\n",
        "\n",
        "# Call the function to add the Weekday column\n",
        "result_df = add_weekday_column(df)\n",
        "\n",
        "# Display the resulting DataFrame\n",
        "print(result_df)"
      ],
      "metadata": {
        "colab": {
          "base_uri": "https://localhost:8080/"
        },
        "id": "YajiFEzN6qHG",
        "outputId": "06e75809-6736-4358-b854-ad867a8dd3a1"
      },
      "execution_count": 37,
      "outputs": [
        {
          "output_type": "stream",
          "name": "stdout",
          "text": [
            "        Date    Weekday\n",
            "0 2023-01-01     Sunday\n",
            "1 2023-01-02     Monday\n",
            "2 2023-01-03    Tuesday\n",
            "3 2023-01-04  Wednesday\n",
            "4 2023-01-05   Thursday\n"
          ]
        }
      ]
    },
    {
      "cell_type": "markdown",
      "source": [
        "**Q12. Given a Pandas DataFrame df with a column 'Date' that contains timestamps, write a Python function to select all rows where the date is between '2023-01-01' and '2023-01-31'.**"
      ],
      "metadata": {
        "id": "TpETbJ8KvErV"
      }
    },
    {
      "cell_type": "code",
      "source": [
        "import pandas as pd\n",
        "\n",
        "def filter_dates(df, start_date='2023-01-01', end_date='2023-01-31'):\n",
        "    # Ensure that 'Date' column is in datetime format\n",
        "    df['Date'] = pd.to_datetime(df['Date'])\n",
        "\n",
        "    # Create a boolean mask for the date range\n",
        "    mask = (df['Date'] >= start_date) & (df['Date'] <= end_date)\n",
        "\n",
        "    # Select rows where the mask is True\n",
        "    filtered_df = df[mask]\n",
        "\n",
        "    return filtered_df\n",
        "\n",
        "# Example usage\n",
        "data = {\n",
        "    'Date': [\n",
        "        '2023-01-01 12:00:00',\n",
        "        '2023-01-15 08:30:00',\n",
        "        '2023-02-01 14:00:00',\n",
        "        '2023-01-20 11:00:00',\n",
        "        '2023-02-10 09:00:00'\n",
        "    ],\n",
        "    'Value': [10, 20, 30, 40, 50]\n",
        "}\n",
        "\n",
        "# Creating a sample DataFrame\n",
        "df = pd.DataFrame(data)\n",
        "\n",
        "# Call the function to filter the DataFrame\n",
        "result_df = filter_dates(df)\n",
        "\n",
        "# Display the resulting DataFrame\n",
        "print(result_df)"
      ],
      "metadata": {
        "colab": {
          "base_uri": "https://localhost:8080/"
        },
        "id": "BcAhnCwg6wI5",
        "outputId": "154e01b3-2620-499f-9f75-66c3d0b25e6f"
      },
      "execution_count": 38,
      "outputs": [
        {
          "output_type": "stream",
          "name": "stdout",
          "text": [
            "                 Date  Value\n",
            "0 2023-01-01 12:00:00     10\n",
            "1 2023-01-15 08:30:00     20\n",
            "3 2023-01-20 11:00:00     40\n"
          ]
        }
      ]
    },
    {
      "cell_type": "markdown",
      "source": [
        "**Q13. To use the basic functions of pandas, what is the first and foremost necessary library that needs to be imported?**"
      ],
      "metadata": {
        "id": "Qk3nvj-0vKTm"
      }
    },
    {
      "cell_type": "code",
      "source": [
        "import pandas as pd"
      ],
      "metadata": {
        "id": "IwPpgeWpvEQY"
      },
      "execution_count": 39,
      "outputs": []
    },
    {
      "cell_type": "code",
      "source": [],
      "metadata": {
        "id": "LCvqQ-urtJnH"
      },
      "execution_count": null,
      "outputs": []
    }
  ]
}