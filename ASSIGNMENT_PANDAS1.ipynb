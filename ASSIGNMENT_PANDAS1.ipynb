{
  "nbformat": 4,
  "nbformat_minor": 0,
  "metadata": {
    "colab": {
      "provenance": []
    },
    "kernelspec": {
      "name": "python3",
      "display_name": "Python 3"
    },
    "language_info": {
      "name": "python"
    }
  },
  "cells": [
    {
      "cell_type": "markdown",
      "source": [
        "**Q1. Create a Pandas Series that contains the following data: 4, 8, 15, 16, 23, and 42. Then, print the series.**"
      ],
      "metadata": {
        "id": "Phw7wGxelS_P"
      }
    },
    {
      "cell_type": "code",
      "source": [
        "import pandas as pd\n",
        "list=[4,8,15,16,23,42]\n",
        "df=pd.Series(list)\n",
        "print(df)\n",
        "print('type=',type(df))"
      ],
      "metadata": {
        "colab": {
          "base_uri": "https://localhost:8080/"
        },
        "id": "VZwWyabGoLNs",
        "outputId": "780395a9-ee0a-4b25-88aa-11b9db389999"
      },
      "execution_count": 16,
      "outputs": [
        {
          "output_type": "stream",
          "name": "stdout",
          "text": [
            "0     4\n",
            "1     8\n",
            "2    15\n",
            "3    16\n",
            "4    23\n",
            "5    42\n",
            "dtype: int64\n",
            "type= <class 'pandas.core.series.Series'>\n"
          ]
        }
      ]
    },
    {
      "cell_type": "markdown",
      "source": [
        "**Q2. Create a variable of list type containing 10 elements in it, and apply pandas.Series function on the variable print it.**"
      ],
      "metadata": {
        "id": "TO-bBbdGlYGn"
      }
    },
    {
      "cell_type": "code",
      "source": [
        "import pandas as pd\n",
        "list=[1,2,3,4,5,'rahul','bhagat',7,8,9]\n",
        "df=pd.Series(list)\n",
        "print(df)"
      ],
      "metadata": {
        "colab": {
          "base_uri": "https://localhost:8080/"
        },
        "id": "6G6HE8WvpH1T",
        "outputId": "b1de0c65-6a71-46c4-f0ca-77b1f6e7b4af"
      },
      "execution_count": 17,
      "outputs": [
        {
          "output_type": "stream",
          "name": "stdout",
          "text": [
            "0         1\n",
            "1         2\n",
            "2         3\n",
            "3         4\n",
            "4         5\n",
            "5     rahul\n",
            "6    bhagat\n",
            "7         7\n",
            "8         8\n",
            "9         9\n",
            "dtype: object\n"
          ]
        }
      ]
    },
    {
      "cell_type": "markdown",
      "source": [
        "**Q3. Create a Pandas DataFrame that contains the following data:**\n",
        "\n",
        "Name______  Age______ Gender\n",
        "\n",
        "Alice________25________Female\n",
        "\n",
        "Bob_________30_________Male\n",
        "\n",
        "Claire_______27________Female\n",
        "\n",
        "\n",
        "\n",
        "\n",
        "\n",
        "\n"
      ],
      "metadata": {
        "id": "ppJnNIaTlfnn"
      }
    },
    {
      "cell_type": "code",
      "source": [
        "import pandas as pd\n",
        "dic={'Name':['Alice','Bob','Claire'],\n",
        "     'Age':[25,30,27],\n",
        "     'Gender':['Female','Male','Female']}\n",
        "df=pd.DataFrame(dic)\n",
        "print(df)"
      ],
      "metadata": {
        "colab": {
          "base_uri": "https://localhost:8080/"
        },
        "id": "eggQFV_0lXcE",
        "outputId": "54abb6f1-67e2-4b70-a3aa-0a2c1d6bd087"
      },
      "execution_count": 10,
      "outputs": [
        {
          "output_type": "stream",
          "name": "stdout",
          "text": [
            "     Name  Age  Gender\n",
            "0   Alice   25  Female\n",
            "1     Bob   30    Male\n",
            "2  Claire   27  Female\n"
          ]
        }
      ]
    },
    {
      "cell_type": "markdown",
      "source": [
        "**Q4. What is ‘DataFrame’ in pandas and how is it different from pandas.series? Explain with an example.**\n"
      ],
      "metadata": {
        "id": "ssYvTlPQnnXD"
      }
    },
    {
      "cell_type": "markdown",
      "source": [
        "**SOLUTION:**\n",
        "\n",
        "In Pandas, a DataFrame and a Series are two of the most commonly used data structures. Here's how they differ and an example to illustrate both:\n",
        "\n",
        "**1. Pandas Series:**\n",
        "\n",
        "A Series is essentially a one-dimensional array-like structure that holds one column of data. It is similar to a list or a column in a table.\n",
        "\n",
        "It has an index on the left and the actual data values on the right.\n",
        "\n",
        "**2. Pandas DataFrame:**\n",
        "\n",
        "A DataFrame is a two-dimensional table of data with rows and columns, where each column can have different data types. It is similar to a spreadsheet or SQL table.\n",
        "\n",
        "A DataFrame consists of multiple Series objects (columns) combined together, with row and column indexes.\n",
        "\n"
      ],
      "metadata": {
        "id": "0_5Pr-MBnqqr"
      }
    },
    {
      "cell_type": "markdown",
      "source": [
        "**Q5. What are some common functions you can use to manipulate data in a Pandas DataFrame? Can you give an example of when you might use one of these functions?**"
      ],
      "metadata": {
        "id": "netJ0BQYnqoG"
      }
    },
    {
      "cell_type": "markdown",
      "source": [
        "**SOLUTION:**\n",
        "\n",
        "Pandas offers a wide range of functions to manipulate and analyze data in a DataFrame. These functions allow users to filter, transform, aggregate, and clean data easily. Here are some common functions and operations, along with an example for each:\n",
        "\n",
        "**1. head() and tail():**\n",
        "\n",
        "Description: These functions return the first or last few rows of a DataFrame.\n",
        "\n",
        "Use case: Quickly inspect the beginning or end of your dataset.\n",
        "\n",
        "**2. info():**\n",
        "\n",
        "Description: Provides a concise summary of the DataFrame, including data types, non-null counts, and memory usage.\n",
        "\n",
        "Use case: Check the structure and data types before performing operations.\n",
        "\n",
        "**3. describe():**\n",
        "\n",
        "Description: Generates summary statistics for numerical columns (like mean, median, min, max, and quartiles).\n",
        "\n",
        "Use case: Quickly get an overview of the distribution of your numeric data.\n",
        "\n",
        "**4. drop():**\n",
        "\n",
        "Description: Removes specified rows or columns from the DataFrame.\n",
        "\n",
        "Use case: Drop unnecessary columns or rows.\n",
        "\n"
      ],
      "metadata": {
        "id": "ZS7rnp0anwI1"
      }
    },
    {
      "cell_type": "code",
      "source": [
        "import pandas as pd\n",
        "dic={'Name':['Alice','Bob','Claire','rahul','bhagat','aman','rohan'],\n",
        "     'Age':[25,30,27,32,45,33,56],\n",
        "     'Gender':['Female','Male','Female','Male','Male','Male','Male']}\n",
        "df1=pd.DataFrame(dic)\n",
        "df1.head(2)  # Returns the first 3 rows of the DataFrame\n",
        "df1.tail(2)  # Returns the last 2 rows\n",
        "df1.info()\n",
        "df1.describe()\n",
        "df1.drop(index=0)  # Drops the first row"
      ],
      "metadata": {
        "colab": {
          "base_uri": "https://localhost:8080/",
          "height": 411
        },
        "id": "_L_84WLLqW6x",
        "outputId": "33cd9f6d-28e3-4f4f-abe3-4dcc3bba8bf4"
      },
      "execution_count": 23,
      "outputs": [
        {
          "output_type": "stream",
          "name": "stdout",
          "text": [
            "<class 'pandas.core.frame.DataFrame'>\n",
            "RangeIndex: 7 entries, 0 to 6\n",
            "Data columns (total 3 columns):\n",
            " #   Column  Non-Null Count  Dtype \n",
            "---  ------  --------------  ----- \n",
            " 0   Name    7 non-null      object\n",
            " 1   Age     7 non-null      int64 \n",
            " 2   Gender  7 non-null      object\n",
            "dtypes: int64(1), object(2)\n",
            "memory usage: 296.0+ bytes\n"
          ]
        },
        {
          "output_type": "execute_result",
          "data": {
            "text/plain": [
              "     Name  Age  Gender\n",
              "1     Bob   30    Male\n",
              "2  Claire   27  Female\n",
              "3   rahul   32    Male\n",
              "4  bhagat   45    Male\n",
              "5    aman   33    Male\n",
              "6   rohan   56    Male"
            ],
            "text/html": [
              "\n",
              "  <div id=\"df-fc34926c-6db2-4c23-88cc-00d91fdb4953\" class=\"colab-df-container\">\n",
              "    <div>\n",
              "<style scoped>\n",
              "    .dataframe tbody tr th:only-of-type {\n",
              "        vertical-align: middle;\n",
              "    }\n",
              "\n",
              "    .dataframe tbody tr th {\n",
              "        vertical-align: top;\n",
              "    }\n",
              "\n",
              "    .dataframe thead th {\n",
              "        text-align: right;\n",
              "    }\n",
              "</style>\n",
              "<table border=\"1\" class=\"dataframe\">\n",
              "  <thead>\n",
              "    <tr style=\"text-align: right;\">\n",
              "      <th></th>\n",
              "      <th>Name</th>\n",
              "      <th>Age</th>\n",
              "      <th>Gender</th>\n",
              "    </tr>\n",
              "  </thead>\n",
              "  <tbody>\n",
              "    <tr>\n",
              "      <th>1</th>\n",
              "      <td>Bob</td>\n",
              "      <td>30</td>\n",
              "      <td>Male</td>\n",
              "    </tr>\n",
              "    <tr>\n",
              "      <th>2</th>\n",
              "      <td>Claire</td>\n",
              "      <td>27</td>\n",
              "      <td>Female</td>\n",
              "    </tr>\n",
              "    <tr>\n",
              "      <th>3</th>\n",
              "      <td>rahul</td>\n",
              "      <td>32</td>\n",
              "      <td>Male</td>\n",
              "    </tr>\n",
              "    <tr>\n",
              "      <th>4</th>\n",
              "      <td>bhagat</td>\n",
              "      <td>45</td>\n",
              "      <td>Male</td>\n",
              "    </tr>\n",
              "    <tr>\n",
              "      <th>5</th>\n",
              "      <td>aman</td>\n",
              "      <td>33</td>\n",
              "      <td>Male</td>\n",
              "    </tr>\n",
              "    <tr>\n",
              "      <th>6</th>\n",
              "      <td>rohan</td>\n",
              "      <td>56</td>\n",
              "      <td>Male</td>\n",
              "    </tr>\n",
              "  </tbody>\n",
              "</table>\n",
              "</div>\n",
              "    <div class=\"colab-df-buttons\">\n",
              "\n",
              "  <div class=\"colab-df-container\">\n",
              "    <button class=\"colab-df-convert\" onclick=\"convertToInteractive('df-fc34926c-6db2-4c23-88cc-00d91fdb4953')\"\n",
              "            title=\"Convert this dataframe to an interactive table.\"\n",
              "            style=\"display:none;\">\n",
              "\n",
              "  <svg xmlns=\"http://www.w3.org/2000/svg\" height=\"24px\" viewBox=\"0 -960 960 960\">\n",
              "    <path d=\"M120-120v-720h720v720H120Zm60-500h600v-160H180v160Zm220 220h160v-160H400v160Zm0 220h160v-160H400v160ZM180-400h160v-160H180v160Zm440 0h160v-160H620v160ZM180-180h160v-160H180v160Zm440 0h160v-160H620v160Z\"/>\n",
              "  </svg>\n",
              "    </button>\n",
              "\n",
              "  <style>\n",
              "    .colab-df-container {\n",
              "      display:flex;\n",
              "      gap: 12px;\n",
              "    }\n",
              "\n",
              "    .colab-df-convert {\n",
              "      background-color: #E8F0FE;\n",
              "      border: none;\n",
              "      border-radius: 50%;\n",
              "      cursor: pointer;\n",
              "      display: none;\n",
              "      fill: #1967D2;\n",
              "      height: 32px;\n",
              "      padding: 0 0 0 0;\n",
              "      width: 32px;\n",
              "    }\n",
              "\n",
              "    .colab-df-convert:hover {\n",
              "      background-color: #E2EBFA;\n",
              "      box-shadow: 0px 1px 2px rgba(60, 64, 67, 0.3), 0px 1px 3px 1px rgba(60, 64, 67, 0.15);\n",
              "      fill: #174EA6;\n",
              "    }\n",
              "\n",
              "    .colab-df-buttons div {\n",
              "      margin-bottom: 4px;\n",
              "    }\n",
              "\n",
              "    [theme=dark] .colab-df-convert {\n",
              "      background-color: #3B4455;\n",
              "      fill: #D2E3FC;\n",
              "    }\n",
              "\n",
              "    [theme=dark] .colab-df-convert:hover {\n",
              "      background-color: #434B5C;\n",
              "      box-shadow: 0px 1px 3px 1px rgba(0, 0, 0, 0.15);\n",
              "      filter: drop-shadow(0px 1px 2px rgba(0, 0, 0, 0.3));\n",
              "      fill: #FFFFFF;\n",
              "    }\n",
              "  </style>\n",
              "\n",
              "    <script>\n",
              "      const buttonEl =\n",
              "        document.querySelector('#df-fc34926c-6db2-4c23-88cc-00d91fdb4953 button.colab-df-convert');\n",
              "      buttonEl.style.display =\n",
              "        google.colab.kernel.accessAllowed ? 'block' : 'none';\n",
              "\n",
              "      async function convertToInteractive(key) {\n",
              "        const element = document.querySelector('#df-fc34926c-6db2-4c23-88cc-00d91fdb4953');\n",
              "        const dataTable =\n",
              "          await google.colab.kernel.invokeFunction('convertToInteractive',\n",
              "                                                    [key], {});\n",
              "        if (!dataTable) return;\n",
              "\n",
              "        const docLinkHtml = 'Like what you see? Visit the ' +\n",
              "          '<a target=\"_blank\" href=https://colab.research.google.com/notebooks/data_table.ipynb>data table notebook</a>'\n",
              "          + ' to learn more about interactive tables.';\n",
              "        element.innerHTML = '';\n",
              "        dataTable['output_type'] = 'display_data';\n",
              "        await google.colab.output.renderOutput(dataTable, element);\n",
              "        const docLink = document.createElement('div');\n",
              "        docLink.innerHTML = docLinkHtml;\n",
              "        element.appendChild(docLink);\n",
              "      }\n",
              "    </script>\n",
              "  </div>\n",
              "\n",
              "\n",
              "<div id=\"df-9951fd21-f0be-4717-b801-bd02daa87009\">\n",
              "  <button class=\"colab-df-quickchart\" onclick=\"quickchart('df-9951fd21-f0be-4717-b801-bd02daa87009')\"\n",
              "            title=\"Suggest charts\"\n",
              "            style=\"display:none;\">\n",
              "\n",
              "<svg xmlns=\"http://www.w3.org/2000/svg\" height=\"24px\"viewBox=\"0 0 24 24\"\n",
              "     width=\"24px\">\n",
              "    <g>\n",
              "        <path d=\"M19 3H5c-1.1 0-2 .9-2 2v14c0 1.1.9 2 2 2h14c1.1 0 2-.9 2-2V5c0-1.1-.9-2-2-2zM9 17H7v-7h2v7zm4 0h-2V7h2v10zm4 0h-2v-4h2v4z\"/>\n",
              "    </g>\n",
              "</svg>\n",
              "  </button>\n",
              "\n",
              "<style>\n",
              "  .colab-df-quickchart {\n",
              "      --bg-color: #E8F0FE;\n",
              "      --fill-color: #1967D2;\n",
              "      --hover-bg-color: #E2EBFA;\n",
              "      --hover-fill-color: #174EA6;\n",
              "      --disabled-fill-color: #AAA;\n",
              "      --disabled-bg-color: #DDD;\n",
              "  }\n",
              "\n",
              "  [theme=dark] .colab-df-quickchart {\n",
              "      --bg-color: #3B4455;\n",
              "      --fill-color: #D2E3FC;\n",
              "      --hover-bg-color: #434B5C;\n",
              "      --hover-fill-color: #FFFFFF;\n",
              "      --disabled-bg-color: #3B4455;\n",
              "      --disabled-fill-color: #666;\n",
              "  }\n",
              "\n",
              "  .colab-df-quickchart {\n",
              "    background-color: var(--bg-color);\n",
              "    border: none;\n",
              "    border-radius: 50%;\n",
              "    cursor: pointer;\n",
              "    display: none;\n",
              "    fill: var(--fill-color);\n",
              "    height: 32px;\n",
              "    padding: 0;\n",
              "    width: 32px;\n",
              "  }\n",
              "\n",
              "  .colab-df-quickchart:hover {\n",
              "    background-color: var(--hover-bg-color);\n",
              "    box-shadow: 0 1px 2px rgba(60, 64, 67, 0.3), 0 1px 3px 1px rgba(60, 64, 67, 0.15);\n",
              "    fill: var(--button-hover-fill-color);\n",
              "  }\n",
              "\n",
              "  .colab-df-quickchart-complete:disabled,\n",
              "  .colab-df-quickchart-complete:disabled:hover {\n",
              "    background-color: var(--disabled-bg-color);\n",
              "    fill: var(--disabled-fill-color);\n",
              "    box-shadow: none;\n",
              "  }\n",
              "\n",
              "  .colab-df-spinner {\n",
              "    border: 2px solid var(--fill-color);\n",
              "    border-color: transparent;\n",
              "    border-bottom-color: var(--fill-color);\n",
              "    animation:\n",
              "      spin 1s steps(1) infinite;\n",
              "  }\n",
              "\n",
              "  @keyframes spin {\n",
              "    0% {\n",
              "      border-color: transparent;\n",
              "      border-bottom-color: var(--fill-color);\n",
              "      border-left-color: var(--fill-color);\n",
              "    }\n",
              "    20% {\n",
              "      border-color: transparent;\n",
              "      border-left-color: var(--fill-color);\n",
              "      border-top-color: var(--fill-color);\n",
              "    }\n",
              "    30% {\n",
              "      border-color: transparent;\n",
              "      border-left-color: var(--fill-color);\n",
              "      border-top-color: var(--fill-color);\n",
              "      border-right-color: var(--fill-color);\n",
              "    }\n",
              "    40% {\n",
              "      border-color: transparent;\n",
              "      border-right-color: var(--fill-color);\n",
              "      border-top-color: var(--fill-color);\n",
              "    }\n",
              "    60% {\n",
              "      border-color: transparent;\n",
              "      border-right-color: var(--fill-color);\n",
              "    }\n",
              "    80% {\n",
              "      border-color: transparent;\n",
              "      border-right-color: var(--fill-color);\n",
              "      border-bottom-color: var(--fill-color);\n",
              "    }\n",
              "    90% {\n",
              "      border-color: transparent;\n",
              "      border-bottom-color: var(--fill-color);\n",
              "    }\n",
              "  }\n",
              "</style>\n",
              "\n",
              "  <script>\n",
              "    async function quickchart(key) {\n",
              "      const quickchartButtonEl =\n",
              "        document.querySelector('#' + key + ' button');\n",
              "      quickchartButtonEl.disabled = true;  // To prevent multiple clicks.\n",
              "      quickchartButtonEl.classList.add('colab-df-spinner');\n",
              "      try {\n",
              "        const charts = await google.colab.kernel.invokeFunction(\n",
              "            'suggestCharts', [key], {});\n",
              "      } catch (error) {\n",
              "        console.error('Error during call to suggestCharts:', error);\n",
              "      }\n",
              "      quickchartButtonEl.classList.remove('colab-df-spinner');\n",
              "      quickchartButtonEl.classList.add('colab-df-quickchart-complete');\n",
              "    }\n",
              "    (() => {\n",
              "      let quickchartButtonEl =\n",
              "        document.querySelector('#df-9951fd21-f0be-4717-b801-bd02daa87009 button');\n",
              "      quickchartButtonEl.style.display =\n",
              "        google.colab.kernel.accessAllowed ? 'block' : 'none';\n",
              "    })();\n",
              "  </script>\n",
              "</div>\n",
              "\n",
              "    </div>\n",
              "  </div>\n"
            ],
            "application/vnd.google.colaboratory.intrinsic+json": {
              "type": "dataframe",
              "summary": "{\n  \"name\": \"df1\",\n  \"rows\": 6,\n  \"fields\": [\n    {\n      \"column\": \"Name\",\n      \"properties\": {\n        \"dtype\": \"string\",\n        \"num_unique_values\": 6,\n        \"samples\": [\n          \"Bob\",\n          \"Claire\",\n          \"rohan\"\n        ],\n        \"semantic_type\": \"\",\n        \"description\": \"\"\n      }\n    },\n    {\n      \"column\": \"Age\",\n      \"properties\": {\n        \"dtype\": \"number\",\n        \"std\": 11,\n        \"min\": 27,\n        \"max\": 56,\n        \"num_unique_values\": 6,\n        \"samples\": [\n          30,\n          27,\n          56\n        ],\n        \"semantic_type\": \"\",\n        \"description\": \"\"\n      }\n    },\n    {\n      \"column\": \"Gender\",\n      \"properties\": {\n        \"dtype\": \"category\",\n        \"num_unique_values\": 2,\n        \"samples\": [\n          \"Female\",\n          \"Male\"\n        ],\n        \"semantic_type\": \"\",\n        \"description\": \"\"\n      }\n    }\n  ]\n}"
            }
          },
          "metadata": {},
          "execution_count": 23
        }
      ]
    },
    {
      "cell_type": "markdown",
      "source": [
        "**Q6. Which of the following is mutable in nature Series, DataFrame, Panel?**"
      ],
      "metadata": {
        "id": "NTLjCnhznwGO"
      }
    },
    {
      "cell_type": "markdown",
      "source": [
        "\n",
        "In Pandas, both Series and DataFrame are mutable, while Panel is deprecated and no longer in use since Pandas version 0.25.0."
      ],
      "metadata": {
        "id": "RLwnMPAonzPt"
      }
    },
    {
      "cell_type": "code",
      "source": [
        "import pandas as pd\n",
        "series = pd.Series([1, 2, 3])\n",
        "series[0] = 10  # Modifying the first element\n",
        "print(series)"
      ],
      "metadata": {
        "colab": {
          "base_uri": "https://localhost:8080/"
        },
        "id": "c1zFgZGHsABE",
        "outputId": "cf08aa08-fba3-427a-e9f1-882cb5d6647f"
      },
      "execution_count": 24,
      "outputs": [
        {
          "output_type": "stream",
          "name": "stdout",
          "text": [
            "0    10\n",
            "1     2\n",
            "2     3\n",
            "dtype: int64\n"
          ]
        }
      ]
    },
    {
      "cell_type": "code",
      "source": [
        "df = pd.DataFrame({'A': [1, 2, 3], 'B': [4, 5, 6]})\n",
        "df['A'][0] = 10  # Modifying a value in the DataFrame\n",
        "print(df)"
      ],
      "metadata": {
        "colab": {
          "base_uri": "https://localhost:8080/"
        },
        "id": "duXwuVGdsDSC",
        "outputId": "fd741ca6-13a9-44a3-de4c-f691c2602a99"
      },
      "execution_count": 25,
      "outputs": [
        {
          "output_type": "stream",
          "name": "stdout",
          "text": [
            "    A  B\n",
            "0  10  4\n",
            "1   2  5\n",
            "2   3  6\n"
          ]
        }
      ]
    },
    {
      "cell_type": "markdown",
      "source": [
        "**Q7. Create a DataFrame using multiple Series. Explain with an example**"
      ],
      "metadata": {
        "id": "-1pKmzklnzM-"
      }
    },
    {
      "cell_type": "code",
      "source": [
        "import pandas as pd\n",
        "\n",
        "# Creating multiple Series\n",
        "names = pd.Series(['Alice', 'Bob', 'Charlie', 'David'])\n",
        "ages = pd.Series([25, 30, 35, 40])\n",
        "departments = pd.Series(['HR', 'Finance', 'IT', 'Marketing'])\n",
        "\n",
        "# Creating a DataFrame using these Series\n",
        "df = pd.DataFrame({\n",
        "    'Name': names,\n",
        "    'Age': ages,\n",
        "    'Department': departments\n",
        "})\n",
        "\n",
        "# Printing the DataFrame\n",
        "print(df)"
      ],
      "metadata": {
        "colab": {
          "base_uri": "https://localhost:8080/"
        },
        "id": "D5cihiVbmhIh",
        "outputId": "171a51e6-1a84-487e-c779-2b0a86316c3b"
      },
      "execution_count": 26,
      "outputs": [
        {
          "output_type": "stream",
          "name": "stdout",
          "text": [
            "      Name  Age Department\n",
            "0    Alice   25         HR\n",
            "1      Bob   30    Finance\n",
            "2  Charlie   35         IT\n",
            "3    David   40  Marketing\n"
          ]
        }
      ]
    },
    {
      "cell_type": "code",
      "source": [],
      "metadata": {
        "id": "FaO5rZ0ksTFB"
      },
      "execution_count": null,
      "outputs": []
    }
  ]
}